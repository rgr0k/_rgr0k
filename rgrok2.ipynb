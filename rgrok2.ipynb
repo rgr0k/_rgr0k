{
 "cells": [
  {
   "cell_type": "code",
   "execution_count": 1714,
   "metadata": {},
   "outputs": [
    {
     "name": "stdout",
     "output_type": "stream",
     "text": [
      "Collecting scipy\n",
      "  Using cached scipy-1.5.2-cp37-cp37m-manylinux1_x86_64.whl (25.9 MB)\n",
      "Requirement already satisfied: numpy>=1.14.5 in ./venv/lib/python3.7/site-packages (from scipy) (1.19.2)\n",
      "Installing collected packages: scipy\n",
      "Successfully installed scipy-1.5.2\n"
     ]
    }
   ],
   "source": [
    "import sys\n",
    "!{sys.executable} -m pip install scipy"
   ]
  },
  {
   "cell_type": "code",
   "execution_count": 1717,
   "metadata": {},
   "outputs": [],
   "source": [
    "from ipywidgets import HBox, VBox, Layout, Button, HTML, Label\n",
    "from IPython.display import Image\n",
    "from rgrok import rgrok\n",
    "from numpy.random import choice\n",
    "import numpy as np\n",
    "import itertools\n",
    "import json\n",
    "from scipy.special import softmax"
   ]
  },
  {
   "cell_type": "code",
   "execution_count": 89,
   "metadata": {},
   "outputs": [],
   "source": [
    "all_urls = []"
   ]
  },
  {
   "cell_type": "code",
   "execution_count": 512,
   "metadata": {},
   "outputs": [],
   "source": [
    "target = \"\""
   ]
  },
  {
   "cell_type": "code",
   "execution_count": 513,
   "metadata": {},
   "outputs": [],
   "source": [
    "after = \"\""
   ]
  },
  {
   "cell_type": "code",
   "execution_count": 505,
   "metadata": {},
   "outputs": [],
   "source": [
    "response = rgrok(target, after)\n",
    "after = response[\"last\"]\n",
    "urls = response[\"urls\"]\n",
    "# all_urls.extend(urls)\n",
    "# urls[:2]"
   ]
  },
  {
   "cell_type": "code",
   "execution_count": 509,
   "metadata": {
    "scrolled": true
   },
   "outputs": [
    {
     "data": {
      "application/vnd.jupyter.widget-view+json": {
       "model_id": "60d22426b41843dc900be7f561395ce4",
       "version_major": 2,
       "version_minor": 0
      },
      "text/plain": [
       "HBox(layout=Layout(flex_flow='row wrap'))"
      ]
     },
     "metadata": {},
     "output_type": "display_data"
    }
   ],
   "source": [
    "box_layout = Layout(flex_flow=\"row wrap\")\n",
    "HBox([HTML(f'<img src=\"{url}\" style=\"line-height: 0; width: 100px;\"/>') for url in urls], layout=box_layout)"
   ]
  },
  {
   "cell_type": "code",
   "execution_count": 970,
   "metadata": {},
   "outputs": [],
   "source": [
    "queue_urls = all_urls"
   ]
  },
  {
   "cell_type": "code",
   "execution_count": 971,
   "metadata": {},
   "outputs": [],
   "source": [
    "keep_urls = []"
   ]
  },
  {
   "cell_type": "code",
   "execution_count": 999,
   "metadata": {},
   "outputs": [
    {
     "ename": "ValueError",
     "evalue": "'a' cannot be empty unless no samples are taken",
     "output_type": "error",
     "traceback": [
      "\u001b[0;31m---------------------------------------------------------------------------\u001b[0m",
      "\u001b[0;31mValueError\u001b[0m                                Traceback (most recent call last)",
      "\u001b[0;32m<ipython-input-999-b645bfc1dfae>\u001b[0m in \u001b[0;36m<module>\u001b[0;34m\u001b[0m\n\u001b[1;32m      2\u001b[0m     \u001b[0;32mglobal\u001b[0m \u001b[0mrandom_url\u001b[0m\u001b[0;34m\u001b[0m\u001b[0;34m\u001b[0m\u001b[0m\n\u001b[1;32m      3\u001b[0m     \u001b[0mrandom_url\u001b[0m \u001b[0;34m=\u001b[0m \u001b[0mchoice\u001b[0m\u001b[0;34m(\u001b[0m\u001b[0mall_urls\u001b[0m\u001b[0;34m)\u001b[0m\u001b[0;34m\u001b[0m\u001b[0;34m\u001b[0m\u001b[0m\n\u001b[0;32m----> 4\u001b[0;31m \u001b[0mupdate_random_url\u001b[0m\u001b[0;34m(\u001b[0m\u001b[0;34m)\u001b[0m\u001b[0;34m\u001b[0m\u001b[0;34m\u001b[0m\u001b[0m\n\u001b[0m\u001b[1;32m      5\u001b[0m \u001b[0mlast_urls\u001b[0m \u001b[0;34m=\u001b[0m \u001b[0;34m[\u001b[0m\u001b[0;34m]\u001b[0m\u001b[0;34m\u001b[0m\u001b[0;34m\u001b[0m\u001b[0m\n\u001b[1;32m      6\u001b[0m \u001b[0;34m\u001b[0m\u001b[0m\n",
      "\u001b[0;32m<ipython-input-999-b645bfc1dfae>\u001b[0m in \u001b[0;36mupdate_random_url\u001b[0;34m()\u001b[0m\n\u001b[1;32m      1\u001b[0m \u001b[0;32mdef\u001b[0m \u001b[0mupdate_random_url\u001b[0m\u001b[0;34m(\u001b[0m\u001b[0;34m)\u001b[0m\u001b[0;34m:\u001b[0m\u001b[0;34m\u001b[0m\u001b[0;34m\u001b[0m\u001b[0m\n\u001b[1;32m      2\u001b[0m     \u001b[0;32mglobal\u001b[0m \u001b[0mrandom_url\u001b[0m\u001b[0;34m\u001b[0m\u001b[0;34m\u001b[0m\u001b[0m\n\u001b[0;32m----> 3\u001b[0;31m     \u001b[0mrandom_url\u001b[0m \u001b[0;34m=\u001b[0m \u001b[0mchoice\u001b[0m\u001b[0;34m(\u001b[0m\u001b[0mall_urls\u001b[0m\u001b[0;34m)\u001b[0m\u001b[0;34m\u001b[0m\u001b[0;34m\u001b[0m\u001b[0m\n\u001b[0m\u001b[1;32m      4\u001b[0m \u001b[0mupdate_random_url\u001b[0m\u001b[0;34m(\u001b[0m\u001b[0;34m)\u001b[0m\u001b[0;34m\u001b[0m\u001b[0;34m\u001b[0m\u001b[0m\n\u001b[1;32m      5\u001b[0m \u001b[0mlast_urls\u001b[0m \u001b[0;34m=\u001b[0m \u001b[0;34m[\u001b[0m\u001b[0;34m]\u001b[0m\u001b[0;34m\u001b[0m\u001b[0;34m\u001b[0m\u001b[0m\n",
      "\u001b[0;32mmtrand.pyx\u001b[0m in \u001b[0;36mnumpy.random.mtrand.RandomState.choice\u001b[0;34m()\u001b[0m\n",
      "\u001b[0;31mValueError\u001b[0m: 'a' cannot be empty unless no samples are taken"
     ]
    }
   ],
   "source": [
    "def update_random_url():\n",
    "    global random_url\n",
    "    random_url = choice(all_urls)\n",
    "update_random_url()\n",
    "last_urls = []\n",
    "\n",
    "def progress_text():\n",
    "    return f\"{len(keep_urls)}/{len(queue_urls)}\"\n",
    "\n",
    "delete_button = Button(\n",
    "    description='Delete',\n",
    "    disabled=False,\n",
    "    button_style='',\n",
    "    icon='times')\n",
    "# delete_button.on_click(lambda: all_urls.remove(random_url))\n",
    "next_button = Button(\n",
    "    description=\"Keep\",\n",
    "    disabled=False,\n",
    "    icon=\"check\"\n",
    ")\n",
    "back_button = Button(\n",
    "    description=\"Back\",\n",
    "    disabled=False,\n",
    "    icon=\"arrow-left\"\n",
    ")\n",
    "shuffle_button = Button(\n",
    "    description=\"Shuffle\",\n",
    "    disabled=False,\n",
    "    icon=\"random\"\n",
    ")\n",
    "\n",
    "url_label = Label(random_url)\n",
    "progress_label = Label(progress_text())\n",
    "\n",
    "def img_html(url):\n",
    "    return f'<img src=\"{url}\" style=\"line-height: 0; height: 150px;\"/>'\n",
    "\n",
    "img_1 = HTML(img_html(random_url))\n",
    "\n",
    "def set_url(url):\n",
    "    img_1.value = img_html(url)\n",
    "    url_label.value = url\n",
    "\n",
    "def shuffle():\n",
    "    update_random_url()\n",
    "    progress_label.value = progress_text()\n",
    "    set_url(random_url)\n",
    "    \n",
    "def next_url():\n",
    "    global queue_urls\n",
    "    queue_urls.remove(random_url)\n",
    "    last_urls.append(random_url)\n",
    "    shuffle()\n",
    "\n",
    "def back():\n",
    "    if len(last_urls) == 0:\n",
    "        return\n",
    "    \n",
    "    back_url = last_urls.pop()\n",
    "    set_url(back_url)\n",
    "    keep_urls.remove(back_url)\n",
    "    queue_urls.append(back_url)\n",
    "    progress_label.value = progress_text()\n",
    "    \n",
    "\n",
    "def keep_and_next():\n",
    "    global keep_urls\n",
    "    keep_urls.append(random_url)\n",
    "    next_url()\n",
    "    \n",
    "next_button.on_click(lambda _: keep_and_next())\n",
    "\n",
    "delete_button.on_click(lambda _: next_url())\n",
    "back_button.on_click(lambda _: back())\n",
    "shuffle_button.on_click(lambda _: shuffle())\n",
    "\n",
    "# display(VBox([HBox([next_button, delete_button]), HBox([back_button, shuffle_button]), url_label, progress_label, img_1]))\n",
    "\n",
    "#with next_button.hold_trait_notifications():\n",
    "    #img_1.value = img_html(random_url)\n",
    "    #print(random_url)"
   ]
  },
  {
   "cell_type": "markdown",
   "metadata": {},
   "source": [
    "Dump into a file"
   ]
  },
  {
   "cell_type": "code",
   "execution_count": 994,
   "metadata": {},
   "outputs": [],
   "source": [
    "with open(\"queue_urls.json\", \"w\") as queue_file:\n",
    "    json.dump(queue_urls, queue_file, indent=4)"
   ]
  },
  {
   "cell_type": "code",
   "execution_count": 995,
   "metadata": {},
   "outputs": [],
   "source": [
    "with open(\"filtered_urls.json\", \"w\") as unordered_file:\n",
    "    json.dump(keep_urls, unordered_file, indent=4)"
   ]
  },
  {
   "cell_type": "code",
   "execution_count": 947,
   "metadata": {},
   "outputs": [],
   "source": [
    "# with open(\"all_urls.json\") as unordered_file:\n",
    "#     all_urls = json.load(unordered_file)"
   ]
  },
  {
   "cell_type": "code",
   "execution_count": 998,
   "metadata": {},
   "outputs": [],
   "source": [
    "# [print(url) for url in keep_urls];"
   ]
  },
  {
   "cell_type": "code",
   "execution_count": 1242,
   "metadata": {},
   "outputs": [],
   "source": [
    "from multiprocessing import Process, Queue\n",
    "import time"
   ]
  },
  {
   "cell_type": "code",
   "execution_count": 1329,
   "metadata": {},
   "outputs": [],
   "source": [
    "sort_queue = Queue()"
   ]
  },
  {
   "cell_type": "code",
   "execution_count": 1330,
   "metadata": {},
   "outputs": [],
   "source": [
    "sort_choice_queue = Queue()"
   ]
  },
  {
   "cell_type": "code",
   "execution_count": 1331,
   "metadata": {},
   "outputs": [],
   "source": [
    "sort_response_queue = Queue()"
   ]
  },
  {
   "cell_type": "code",
   "execution_count": 1699,
   "metadata": {},
   "outputs": [],
   "source": [
    "class CategorizedUrl:\n",
    "    def __init__(self, url):\n",
    "        self.url = url\n",
    "        self.score = 0\n",
    "    def __gt__(self, b):\n",
    "        sort_queue.put(self)\n",
    "        sort_queue.put(b)\n",
    "        # print(\"waiting for sort\")\n",
    "        while sort_choice_queue.empty():\n",
    "            time.sleep(0.05)\n",
    "        return sort_choice_queue.get()\n",
    "    def __lt__(self, b):\n",
    "        sort_queue.put(b)\n",
    "        sort_queue.put(self)\n",
    "        # print(\"waiting for sort\")\n",
    "        while sort_choice_queue.empty():\n",
    "            time.sleep(0.05)\n",
    "        return sort_choice_queue.get()\n",
    "    def __eq__(self, b):\n",
    "        return False"
   ]
  },
  {
   "cell_type": "code",
   "execution_count": 1700,
   "metadata": {},
   "outputs": [],
   "source": [
    "wrapped_urls = [CategorizedUrl(u) for u in keep_urls]"
   ]
  },
  {
   "cell_type": "code",
   "execution_count": 1507,
   "metadata": {},
   "outputs": [],
   "source": [
    "wrapped_urls_sample = choice(wrapped_urls, size=50)"
   ]
  },
  {
   "cell_type": "code",
   "execution_count": 1508,
   "metadata": {},
   "outputs": [],
   "source": [
    "def f(urls):\n",
    "    sort_response_queue.put(sorted(urls))\n",
    "    # [print(url) for url in urls]"
   ]
  },
  {
   "cell_type": "code",
   "execution_count": 1509,
   "metadata": {},
   "outputs": [],
   "source": [
    "p = Process(target=f, args=(wrapped_urls_sample,))\n",
    "p.start()"
   ]
  },
  {
   "cell_type": "code",
   "execution_count": 1510,
   "metadata": {},
   "outputs": [],
   "source": [
    "# p.kill()"
   ]
  },
  {
   "cell_type": "code",
   "execution_count": 1511,
   "metadata": {},
   "outputs": [
    {
     "data": {
      "text/plain": [
       "True"
      ]
     },
     "execution_count": 1511,
     "metadata": {},
     "output_type": "execute_result"
    }
   ],
   "source": [
    "p.is_alive()"
   ]
  },
  {
   "cell_type": "code",
   "execution_count": 1512,
   "metadata": {},
   "outputs": [],
   "source": [
    "sorted_list = sort_queue.get()"
   ]
  },
  {
   "cell_type": "code",
   "execution_count": 1711,
   "metadata": {},
   "outputs": [],
   "source": [
    "def sigmoid(offset, height, width_factor):\n",
    "    return lambda x: height / (1 + np.e ** (offset + width_factor * x))"
   ]
  },
  {
   "cell_type": "code",
   "execution_count": 1811,
   "metadata": {
    "scrolled": false
   },
   "outputs": [
    {
     "data": {
      "application/vnd.jupyter.widget-view+json": {
       "model_id": "ab26795305694d898efaea1c8b022af6",
       "version_major": 2,
       "version_minor": 0
      },
      "text/plain": []
     },
     "metadata": {},
     "output_type": "display_data"
    },
    {
     "data": {
      "application/vnd.jupyter.widget-view+json": {
       "model_id": "963ad6ff4ff343c7b859ca820212804b",
       "version_major": 2,
       "version_minor": 0
      },
      "text/plain": [
       "Label(value='5.690284999999999%')"
      ]
     },
     "metadata": {},
     "output_type": "display_data"
    },
    {
     "data": {
      "application/vnd.jupyter.widget-view+json": {
       "model_id": "5436d55cade14fff89360fe7af99e15b",
       "version_major": 2,
       "version_minor": 0
      },
      "text/plain": [
       "Label(value='0.01690253%')"
      ]
     },
     "metadata": {},
     "output_type": "display_data"
    },
    {
     "data": {
      "application/vnd.jupyter.widget-view+json": {
       "model_id": "782697bb91574a74acadc0497afdf5a3",
       "version_major": 2,
       "version_minor": 0
      },
      "text/plain": [
       "VBox(children=(HBox(children=(Button(description='Left', icon='arrow-left', style=ButtonStyle()), Button(descr…"
      ]
     },
     "metadata": {},
     "output_type": "display_data"
    }
   ],
   "source": [
    "right_vote_button = Button(\n",
    "    description=\"Right\",\n",
    "    disabled=False,\n",
    "    icon=\"arrow-right\"\n",
    ")\n",
    "left_vote_button = Button(\n",
    "    description=\"Left\",\n",
    "    disabled=False,\n",
    "    icon=\"arrow-left\"\n",
    ")\n",
    "\n",
    "url_view_probability_sigmoid = sigmoid(3, 6, -0.5)\n",
    "\n",
    "def img_html(url, height = 150):\n",
    "    return f'<img src=\"{url}\" style=\"line-height: 0; height: {height}px;\"/>'\n",
    "\n",
    "def top_n_images():\n",
    "    return [VBox([HTML(img_html(u.url, 80)), Label(str(u.score))]) for u in sorted(wrapped_urls, key=lambda w: w.score, reverse=True)[:10]]\n",
    "\n",
    "img_vote_1 = HTML()\n",
    "img_vote_2 = HTML()\n",
    "max_prob_label = Label()\n",
    "min_prob_label = Label()\n",
    "\n",
    "top_n_images_box = HBox(top_n_images())\n",
    "\n",
    "def set_vote_urls(url_1, url_2):\n",
    "    img_vote_1.value = img_html(url_1)\n",
    "    img_vote_2.value = img_html(url_2)\n",
    "\n",
    "def update_vote_images():\n",
    "    global vote_url_1, vote_url_2\n",
    "    #try:\n",
    "    avg_score = sum([u.score for u in wrapped_urls]) / len(wrapped_urls)\n",
    "    probabilities = [url_view_probability_sigmoid(u.score - avg_score) + 0.1 for u in wrapped_urls]\n",
    "    probabilities = softmax(probabilities)\n",
    "    max_prob_label.value = str(round(max(probabilities), 10) * 100) + \"%\"\n",
    "    min_prob_label.value = str(round(min(probabilities), 10) * 100) + \"%\"\n",
    "    vote_url_1, vote_url_2 = choice(wrapped_urls, size=2, replace=False, p=probabilities)\n",
    "    set_vote_urls(vote_url_1.url, vote_url_2.url)\n",
    "    #except:\n",
    "    top_n_images_box.children = top_n_images()\n",
    "    #    print(\"none found\")\n",
    "\n",
    "\n",
    "def left_vote():\n",
    "    vote_url_1.score += 1\n",
    "    vote_url_2.score = max(vote_url_2.score - 1, 0)\n",
    "    update_vote_images()\n",
    "\n",
    "def right_vote():\n",
    "    vote_url_1.score = max(vote_url_1.score - 1, 0)\n",
    "    vote_url_2.score += 1\n",
    "    update_vote_images()\n",
    "    \n",
    "\n",
    "left_vote_button.on_click(lambda _: left_vote())\n",
    "right_vote_button.on_click(lambda _: right_vote())\n",
    "\n",
    "update_vote_images()\n",
    "\n",
    "display(top_n_images_box)\n",
    "display(max_prob_label, min_prob_label, VBox([HBox([left_vote_button, right_vote_button]), HBox([img_vote_1, img_vote_2])]))"
   ]
  },
  {
   "cell_type": "code",
   "execution_count": 1775,
   "metadata": {},
   "outputs": [],
   "source": [
    "top_urls = sorted(wrapped_urls, key=lambda w: w.score, reverse=True)"
   ]
  },
  {
   "cell_type": "code",
   "execution_count": 1795,
   "metadata": {},
   "outputs": [
    {
     "data": {
      "text/plain": [
       "38"
      ]
     },
     "execution_count": 1795,
     "metadata": {},
     "output_type": "execute_result"
    }
   ],
   "source": [
    "top_urls[0].score"
   ]
  },
  {
   "cell_type": "code",
   "execution_count": 1818,
   "metadata": {},
   "outputs": [
    {
     "data": {
      "application/vnd.jupyter.widget-view+json": {
       "model_id": "7300bfaf6f4744269034e335440470f6",
       "version_major": 2,
       "version_minor": 0
      },
      "text/plain": []
     },
     "metadata": {},
     "output_type": "display_data"
    }
   ],
   "source": [
    "HBox([VBox([HTML(img_html(u.url, 120)), Label(str(u.score))]) for u in top_urls[4:10]])"
   ]
  },
  {
   "cell_type": "code",
   "execution_count": 1482,
   "metadata": {},
   "outputs": [
    {
     "data": {
      "text/plain": [
       "2301"
      ]
     },
     "execution_count": 1482,
     "metadata": {},
     "output_type": "execute_result"
    }
   ],
   "source": [
    "keep_urls.index(img_1.value.split('\"')[1])"
   ]
  },
  {
   "cell_type": "code",
   "execution_count": 1501,
   "metadata": {},
   "outputs": [
    {
     "data": {
      "text/plain": [
       "2455"
      ]
     },
     "execution_count": 1501,
     "metadata": {},
     "output_type": "execute_result"
    }
   ],
   "source": [
    "keep_urls.index(img_2.value.split('\"')[1])"
   ]
  },
  {
   "cell_type": "code",
   "execution_count": 1381,
   "metadata": {},
   "outputs": [
    {
     "data": {
      "text/plain": [
       "2456"
      ]
     },
     "execution_count": 1381,
     "metadata": {},
     "output_type": "execute_result"
    }
   ],
   "source": [
    "len(keep_urls)"
   ]
  },
  {
   "cell_type": "code",
   "execution_count": 1825,
   "metadata": {
    "collapsed": true
   },
   "outputs": [],
   "source": [
    "export_game = [{\"score\": u.score, \"url\": u.url} for u in sorted(wrapped_urls, key=lambda w: w.score, reverse=True)]"
   ]
  },
  {
   "cell_type": "code",
   "execution_count": 1830,
   "metadata": {},
   "outputs": [],
   "source": [
    "with open('exported-game.json', 'w') as export_file:\n",
    "    json.dump(export_game, export_file, indent=4)"
   ]
  }
 ],
 "metadata": {
  "kernelspec": {
   "display_name": "Python 3",
   "language": "python",
   "name": "python3"
  },
  "language_info": {
   "codemirror_mode": {
    "name": "ipython",
    "version": 3
   },
   "file_extension": ".py",
   "mimetype": "text/x-python",
   "name": "python",
   "nbconvert_exporter": "python",
   "pygments_lexer": "ipython3",
   "version": "3.7.5"
  }
 },
 "nbformat": 4,
 "nbformat_minor": 4
}
